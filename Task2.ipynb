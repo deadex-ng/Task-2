{
  "nbformat": 4,
  "nbformat_minor": 0,
  "metadata": {
    "colab": {
      "name": "Task2.ipynb",
      "provenance": [],
      "collapsed_sections": []
    },
    "kernelspec": {
      "name": "python3",
      "display_name": "Python 3"
    },
    "language_info": {
      "name": "python"
    }
  },
  "cells": [
    {
      "cell_type": "code",
      "metadata": {
        "id": "d1B-XwFo-I5d"
      },
      "source": [
        "import pandas as pd\n",
        "import matplotlib.pyplot as plt\n",
        "import seaborn as sns"
      ],
      "execution_count": 17,
      "outputs": []
    },
    {
      "cell_type": "code",
      "metadata": {
        "id": "2Gaq0Fb1-gVr"
      },
      "source": [
        "data_url = 'https://raw.githubusercontent.com/deadex-ng/Task-2/main/cleaned_fintech_data.csv'\n",
        "#load csv file "
      ],
      "execution_count": 18,
      "outputs": []
    },
    {
      "cell_type": "code",
      "metadata": {
        "id": "JuOGd_lQ-tKZ"
      },
      "source": [
        "df = pd.read_csv(data_url)\n",
        "#print(df.head())"
      ],
      "execution_count": 19,
      "outputs": []
    },
    {
      "cell_type": "code",
      "metadata": {
        "colab": {
          "base_uri": "https://localhost:8080/"
        },
        "id": "NiX8956D-z6f",
        "outputId": "02f07608-bddb-4433-b13e-7275859b4ab4"
      },
      "source": [
        "for col in df.columns:\n",
        "  print(col)\n",
        "  #Diplay column names "
      ],
      "execution_count": 20,
      "outputs": [
        {
          "output_type": "stream",
          "text": [
            "Unnamed: 0\n",
            "created_at\n",
            "source\n",
            "original_text\n",
            "clean_text\n",
            "sentiment\n",
            "polarity\n",
            "subjectivity\n",
            "lang\n",
            "favorite_count\n",
            "retweet_count\n",
            "original_author\n",
            "screen_count\n",
            "followers_count\n",
            "friends_count\n",
            "possibly_sensitive\n",
            "hashtags\n",
            "user_mentions\n",
            "place\n",
            "place_coord_boundaries\n",
            "timestamp\n"
          ],
          "name": "stdout"
        }
      ]
    },
    {
      "cell_type": "code",
      "metadata": {
        "id": "GAnmPEqg-5Ot"
      },
      "source": [
        "def text_category(p):\n",
        "  if p < 0.0:\n",
        "    return 'negative'\n",
        "  elif p == 0:\n",
        "    return 'neutral'\n",
        "  else:\n",
        "    return 'positive'"
      ],
      "execution_count": 21,
      "outputs": []
    },
    {
      "cell_type": "code",
      "metadata": {
        "colab": {
          "base_uri": "https://localhost:8080/",
          "height": 204
        },
        "id": "l-d7IAWa-_nO",
        "outputId": "6cb72565-af99-4010-a23e-1d0251b5e888"
      },
      "source": [
        "#Create a sub dataset\n",
        "cleanTweet = df[[\"clean_text\",\"polarity\"]]\n",
        " \n",
        "#Check the first 10 rows\n",
        "cleanTweet.head()\n"
      ],
      "execution_count": 22,
      "outputs": [
        {
          "output_type": "execute_result",
          "data": {
            "text/html": [
              "<div>\n",
              "<style scoped>\n",
              "    .dataframe tbody tr th:only-of-type {\n",
              "        vertical-align: middle;\n",
              "    }\n",
              "\n",
              "    .dataframe tbody tr th {\n",
              "        vertical-align: top;\n",
              "    }\n",
              "\n",
              "    .dataframe thead th {\n",
              "        text-align: right;\n",
              "    }\n",
              "</style>\n",
              "<table border=\"1\" class=\"dataframe\">\n",
              "  <thead>\n",
              "    <tr style=\"text-align: right;\">\n",
              "      <th></th>\n",
              "      <th>clean_text</th>\n",
              "      <th>polarity</th>\n",
              "    </tr>\n",
              "  </thead>\n",
              "  <tbody>\n",
              "    <tr>\n",
              "      <th>0</th>\n",
              "      <td>Giving forth life becoming burden Kenya This m...</td>\n",
              "      <td>0.3194444444444445</td>\n",
              "    </tr>\n",
              "    <tr>\n",
              "      <th>1</th>\n",
              "      <td>Teenmaar crPanja crGabbarsingh cr Khaleja Kuda...</td>\n",
              "      <td>0.0</td>\n",
              "    </tr>\n",
              "    <tr>\n",
              "      <th>2</th>\n",
              "      <td>Rei chintu lo Vachina Ad Nizam ne lo kottaru f...</td>\n",
              "      <td>0.0</td>\n",
              "    </tr>\n",
              "    <tr>\n",
              "      <th>3</th>\n",
              "      <td>Today World Day Combat Restoring degraded land...</td>\n",
              "      <td>0.25</td>\n",
              "    </tr>\n",
              "    <tr>\n",
              "      <th>4</th>\n",
              "      <td>Hearing say 's confident vaccines delivered li...</td>\n",
              "      <td>0.5</td>\n",
              "    </tr>\n",
              "  </tbody>\n",
              "</table>\n",
              "</div>"
            ],
            "text/plain": [
              "                                          clean_text            polarity\n",
              "0  Giving forth life becoming burden Kenya This m...  0.3194444444444445\n",
              "1  Teenmaar crPanja crGabbarsingh cr Khaleja Kuda...                 0.0\n",
              "2  Rei chintu lo Vachina Ad Nizam ne lo kottaru f...                 0.0\n",
              "3  Today World Day Combat Restoring degraded land...                0.25\n",
              "4  Hearing say 's confident vaccines delivered li...                 0.5"
            ]
          },
          "metadata": {
            "tags": []
          },
          "execution_count": 22
        }
      ]
    },
    {
      "cell_type": "code",
      "metadata": {
        "colab": {
          "base_uri": "https://localhost:8080/"
        },
        "id": "TZR6S3Hu_EoQ",
        "outputId": "2ba549ea-c64d-441a-bf6f-7b4065f1bcb7"
      },
      "source": [
        "cleanTweet['score'] = pd.to_numeric(cleanTweet[\"polarity\"], errors='coerce').apply(text_category)"
      ],
      "execution_count": 23,
      "outputs": [
        {
          "output_type": "stream",
          "text": [
            "/usr/local/lib/python3.7/dist-packages/ipykernel_launcher.py:1: SettingWithCopyWarning: \n",
            "A value is trying to be set on a copy of a slice from a DataFrame.\n",
            "Try using .loc[row_indexer,col_indexer] = value instead\n",
            "\n",
            "See the caveats in the documentation: https://pandas.pydata.org/pandas-docs/stable/user_guide/indexing.html#returning-a-view-versus-a-copy\n",
            "  \"\"\"Entry point for launching an IPython kernel.\n"
          ],
          "name": "stderr"
        }
      ]
    },
    {
      "cell_type": "code",
      "metadata": {
        "colab": {
          "base_uri": "https://localhost:8080/",
          "height": 204
        },
        "id": "4vUNQ6jUD48F",
        "outputId": "a65edee3-2e2c-41b6-e26d-23a0774709d2"
      },
      "source": [
        "cleanTweet.head()"
      ],
      "execution_count": 24,
      "outputs": [
        {
          "output_type": "execute_result",
          "data": {
            "text/html": [
              "<div>\n",
              "<style scoped>\n",
              "    .dataframe tbody tr th:only-of-type {\n",
              "        vertical-align: middle;\n",
              "    }\n",
              "\n",
              "    .dataframe tbody tr th {\n",
              "        vertical-align: top;\n",
              "    }\n",
              "\n",
              "    .dataframe thead th {\n",
              "        text-align: right;\n",
              "    }\n",
              "</style>\n",
              "<table border=\"1\" class=\"dataframe\">\n",
              "  <thead>\n",
              "    <tr style=\"text-align: right;\">\n",
              "      <th></th>\n",
              "      <th>clean_text</th>\n",
              "      <th>polarity</th>\n",
              "      <th>score</th>\n",
              "    </tr>\n",
              "  </thead>\n",
              "  <tbody>\n",
              "    <tr>\n",
              "      <th>0</th>\n",
              "      <td>Giving forth life becoming burden Kenya This m...</td>\n",
              "      <td>0.3194444444444445</td>\n",
              "      <td>positive</td>\n",
              "    </tr>\n",
              "    <tr>\n",
              "      <th>1</th>\n",
              "      <td>Teenmaar crPanja crGabbarsingh cr Khaleja Kuda...</td>\n",
              "      <td>0.0</td>\n",
              "      <td>neutral</td>\n",
              "    </tr>\n",
              "    <tr>\n",
              "      <th>2</th>\n",
              "      <td>Rei chintu lo Vachina Ad Nizam ne lo kottaru f...</td>\n",
              "      <td>0.0</td>\n",
              "      <td>neutral</td>\n",
              "    </tr>\n",
              "    <tr>\n",
              "      <th>3</th>\n",
              "      <td>Today World Day Combat Restoring degraded land...</td>\n",
              "      <td>0.25</td>\n",
              "      <td>positive</td>\n",
              "    </tr>\n",
              "    <tr>\n",
              "      <th>4</th>\n",
              "      <td>Hearing say 's confident vaccines delivered li...</td>\n",
              "      <td>0.5</td>\n",
              "      <td>positive</td>\n",
              "    </tr>\n",
              "  </tbody>\n",
              "</table>\n",
              "</div>"
            ],
            "text/plain": [
              "                                          clean_text  ...     score\n",
              "0  Giving forth life becoming burden Kenya This m...  ...  positive\n",
              "1  Teenmaar crPanja crGabbarsingh cr Khaleja Kuda...  ...   neutral\n",
              "2  Rei chintu lo Vachina Ad Nizam ne lo kottaru f...  ...   neutral\n",
              "3  Today World Day Combat Restoring degraded land...  ...  positive\n",
              "4  Hearing say 's confident vaccines delivered li...  ...  positive\n",
              "\n",
              "[5 rows x 3 columns]"
            ]
          },
          "metadata": {
            "tags": []
          },
          "execution_count": 24
        }
      ]
    },
    {
      "cell_type": "code",
      "metadata": {
        "colab": {
          "base_uri": "https://localhost:8080/",
          "height": 265
        },
        "id": "LsR3T9uEnxod",
        "outputId": "2e00f9d4-d2c9-4a35-dc49-2967917554b0"
      },
      "source": [
        "#Data visualization in pie chart\n",
        "cleanTweet['score'].value_counts().plot(kind='pie')"
      ],
      "execution_count": 25,
      "outputs": [
        {
          "output_type": "execute_result",
          "data": {
            "text/plain": [
              "<matplotlib.axes._subplots.AxesSubplot at 0x7f14b82badd0>"
            ]
          },
          "metadata": {
            "tags": []
          },
          "execution_count": 25
        },
        {
          "output_type": "display_data",
          "data": {
            "image/png": "[encoded data removed]",
            "text/plain": [
              "<Figure size 432x288 with 1 Axes>"
            ]
          },
          "metadata": {
            "tags": []
          }
        }
      ]
    },
    {
      "cell_type": "code",
      "metadata": {
        "colab": {
          "base_uri": "https://localhost:8080/",
          "height": 316
        },
        "id": "RjP7g2vLRKdr",
        "outputId": "4e8ca756-3e4b-4d28-9828-16966eb930bf"
      },
      "source": [
        "#data visualization in bar chart\n",
        "cleanTweet['score'].value_counts().plot(kind='bar')"
      ],
      "execution_count": 26,
      "outputs": [
        {
          "output_type": "execute_result",
          "data": {
            "text/plain": [
              "<matplotlib.axes._subplots.AxesSubplot at 0x7f14b82e1fd0>"
            ]
          },
          "metadata": {
            "tags": []
          },
          "execution_count": 26
        },
        {
          "output_type": "display_data",
          "data": {
            "image/png": "[encoded data removed]",
            "text/plain": [
              "<Figure size 432x288 with 1 Axes>"
            ]
          },
          "metadata": {
            "tags": [],
            "needs_background": "light"
          }
        }
      ]
    },
    {
      "cell_type": "code",
      "metadata": {
        "colab": {
          "base_uri": "https://localhost:8080/"
        },
        "id": "J0HR-ke1KeSg",
        "outputId": "c21b899a-d533-4e2f-878a-9ff01505d67d"
      },
      "source": [
        "#get names of indexes for which colomn name polarity has value 0 \n",
        "index_names = cleanTweet [ cleanTweet['score'] == 'neutral' ].index\n",
        "\n",
        "#drop the rows \n",
        "cleanTweet.drop(index_names, inplace= True)\n",
        "\n",
        "#reset the index \n",
        "cleanTweet = cleanTweet.reset_index()\n",
        "\n",
        "#check\n",
        "#cleanTweet.head()"
      ],
      "execution_count": 27,
      "outputs": [
        {
          "output_type": "stream",
          "text": [
            "/usr/local/lib/python3.7/dist-packages/pandas/core/frame.py:4174: SettingWithCopyWarning: \n",
            "A value is trying to be set on a copy of a slice from a DataFrame\n",
            "\n",
            "See the caveats in the documentation: https://pandas.pydata.org/pandas-docs/stable/user_guide/indexing.html#returning-a-view-versus-a-copy\n",
            "  errors=errors,\n"
          ],
          "name": "stderr"
        }
      ]
    },
    {
      "cell_type": "code",
      "metadata": {
        "id": "wQNi9xsPUK3Q"
      },
      "source": [
        "#gets value of score as argument and return scoremap value\n",
        "def score_map_function(score):\n",
        "  if score == 'positive':\n",
        "    return 1 \n",
        "  else:\n",
        "    return 0\n"
      ],
      "execution_count": 28,
      "outputs": []
    },
    {
      "cell_type": "code",
      "metadata": {
        "colab": {
          "base_uri": "https://localhost:8080/",
          "height": 204
        },
        "id": "qqVX7uaNUybb",
        "outputId": "b7e8cdd6-8e13-4d56-90eb-c1293ebb09eb"
      },
      "source": [
        "#passing values of score to score_map_function\n",
        "cleanTweet['scoremap'] = cleanTweet['score'].apply(score_map_function)\n",
        "\n",
        "#checking the new dataset\n",
        "cleanTweet.head()"
      ],
      "execution_count": 29,
      "outputs": [
        {
          "output_type": "execute_result",
          "data": {
            "text/html": [
              "<div>\n",
              "<style scoped>\n",
              "    .dataframe tbody tr th:only-of-type {\n",
              "        vertical-align: middle;\n",
              "    }\n",
              "\n",
              "    .dataframe tbody tr th {\n",
              "        vertical-align: top;\n",
              "    }\n",
              "\n",
              "    .dataframe thead th {\n",
              "        text-align: right;\n",
              "    }\n",
              "</style>\n",
              "<table border=\"1\" class=\"dataframe\">\n",
              "  <thead>\n",
              "    <tr style=\"text-align: right;\">\n",
              "      <th></th>\n",
              "      <th>index</th>\n",
              "      <th>clean_text</th>\n",
              "      <th>polarity</th>\n",
              "      <th>score</th>\n",
              "      <th>scoremap</th>\n",
              "    </tr>\n",
              "  </thead>\n",
              "  <tbody>\n",
              "    <tr>\n",
              "      <th>0</th>\n",
              "      <td>0</td>\n",
              "      <td>Giving forth life becoming burden Kenya This m...</td>\n",
              "      <td>0.3194444444444445</td>\n",
              "      <td>positive</td>\n",
              "      <td>1</td>\n",
              "    </tr>\n",
              "    <tr>\n",
              "      <th>1</th>\n",
              "      <td>3</td>\n",
              "      <td>Today World Day Combat Restoring degraded land...</td>\n",
              "      <td>0.25</td>\n",
              "      <td>positive</td>\n",
              "      <td>1</td>\n",
              "    </tr>\n",
              "    <tr>\n",
              "      <th>2</th>\n",
              "      <td>4</td>\n",
              "      <td>Hearing say 's confident vaccines delivered li...</td>\n",
              "      <td>0.5</td>\n",
              "      <td>positive</td>\n",
              "      <td>1</td>\n",
              "    </tr>\n",
              "    <tr>\n",
              "      <th>3</th>\n",
              "      <td>6</td>\n",
              "      <td>Today World Day Combat Restoring degraded land...</td>\n",
              "      <td>0.25</td>\n",
              "      <td>positive</td>\n",
              "      <td>1</td>\n",
              "    </tr>\n",
              "    <tr>\n",
              "      <th>4</th>\n",
              "      <td>9</td>\n",
              "      <td>Austria `` right '' grid tariffs regulatory re...</td>\n",
              "      <td>0.2857142857142857</td>\n",
              "      <td>positive</td>\n",
              "      <td>1</td>\n",
              "    </tr>\n",
              "  </tbody>\n",
              "</table>\n",
              "</div>"
            ],
            "text/plain": [
              "   index                                         clean_text  ...     score scoremap\n",
              "0      0  Giving forth life becoming burden Kenya This m...  ...  positive        1\n",
              "1      3  Today World Day Combat Restoring degraded land...  ...  positive        1\n",
              "2      4  Hearing say 's confident vaccines delivered li...  ...  positive        1\n",
              "3      6  Today World Day Combat Restoring degraded land...  ...  positive        1\n",
              "4      9  Austria `` right '' grid tariffs regulatory re...  ...  positive        1\n",
              "\n",
              "[5 rows x 5 columns]"
            ]
          },
          "metadata": {
            "tags": []
          },
          "execution_count": 29
        }
      ]
    },
    {
      "cell_type": "code",
      "metadata": {
        "id": "r4VVRhYOVtZl"
      },
      "source": [
        "from sklearn.feature_extraction.text import CountVectorizer, TfidfTransformer #for turning text to numeric data\n",
        "from joblib import dump, load # used for saving and loading sklearn objects\n",
        "from scipy.sparse import save_npz, load_npz # used for saving and loading sparse matrices"
      ],
      "execution_count": 30,
      "outputs": []
    },
    {
      "cell_type": "code",
      "metadata": {
        "colab": {
          "base_uri": "https://localhost:8080/"
        },
        "id": "VHQ_eQ81ZkT3",
        "outputId": "1fa44610-0082-4eae-fdb0-6e91eb96a50d"
      },
      "source": [
        "#creating a trigram using CountVectorizer\n",
        "trigram_vectorizer = CountVectorizer(ngram_range=(1, 3))\n",
        "trigram_vectorizer.fit(cleanTweet['clean_text'].values)\n",
        "\n",
        "dump(trigram_vectorizer, 'trigram_vectorizer.joblib')"
      ],
      "execution_count": 31,
      "outputs": [
        {
          "output_type": "execute_result",
          "data": {
            "text/plain": [
              "['trigram_vectorizer.joblib']"
            ]
          },
          "metadata": {
            "tags": []
          },
          "execution_count": 31
        }
      ]
    },
    {
      "cell_type": "code",
      "metadata": {
        "id": "bJibuWv2cUVV"
      },
      "source": [
        "X_train_trigram = trigram_vectorizer.transform(cleanTweet['clean_text'].values)\n",
        "\n",
        "save_npz('X_train_trigram.npz', X_train_trigram)"
      ],
      "execution_count": 32,
      "outputs": []
    },
    {
      "cell_type": "code",
      "metadata": {
        "colab": {
          "base_uri": "https://localhost:8080/"
        },
        "id": "v9fPc6n0d_xf",
        "outputId": "4a906505-a9e6-4448-b632-2558e0422430"
      },
      "source": [
        "#creating a trigram using Tf-Idf\n",
        "trigram_tf_idf_transformer = TfidfTransformer()\n",
        "trigram_tf_idf_transformer.fit(X_train_trigram)\n",
        "\n",
        "dump(trigram_tf_idf_transformer, 'trigram_tf_idf_transformer.joblib')"
      ],
      "execution_count": 33,
      "outputs": [
        {
          "output_type": "execute_result",
          "data": {
            "text/plain": [
              "['trigram_tf_idf_transformer.joblib']"
            ]
          },
          "metadata": {
            "tags": []
          },
          "execution_count": 33
        }
      ]
    },
    {
      "cell_type": "code",
      "metadata": {
        "id": "8TfuO79YeYBg"
      },
      "source": [
        "X_train_trigram_tf_idf = trigram_tf_idf_transformer.transform(X_train_trigram)\n",
        "\n",
        "save_npz('X_train_trigram_tf_idf.npz', X_train_trigram_tf_idf)"
      ],
      "execution_count": 34,
      "outputs": []
    },
    {
      "cell_type": "code",
      "metadata": {
        "id": "pjYUg8PQhjGD"
      },
      "source": [
        "from sklearn.linear_model import SGDClassifier\n",
        "from sklearn.model_selection import train_test_split\n",
        "from scipy.sparse import csr_matrix\n",
        "import numpy as np"
      ],
      "execution_count": 35,
      "outputs": []
    },
    {
      "cell_type": "code",
      "metadata": {
        "id": "9OxqWD2IhnbK"
      },
      "source": [
        "def train_and_show_scores(X: csr_matrix,y:np.array,title: str) -> None:\n",
        "  X_train, X_valid, y_train, y_valid = train_test_split(\n",
        "        X, y, train_size=0.75, stratify=y\n",
        "    )\n",
        "  \n",
        "  clf = SGDClassifier()\n",
        "  clf.fit(X_train, y_train)\n",
        "  train_score = clf.score(X_train, y_train)\n",
        "  valid_score = clf.score(X_valid, y_valid)\n",
        "  print(f'{title}\\nTrain score: {round(train_score, 2)} ; Validation score: {round(valid_score, 2)}\\n')\n"
      ],
      "execution_count": 36,
      "outputs": []
    },
    {
      "cell_type": "code",
      "metadata": {
        "id": "7z0wvgCegGxf"
      },
      "source": [
        "#creating feature and target variables \n",
        "y_train = cleanTweet['scoremap'].values \n"
      ],
      "execution_count": 37,
      "outputs": []
    },
    {
      "cell_type": "code",
      "metadata": {
        "colab": {
          "base_uri": "https://localhost:8080/"
        },
        "id": "MY0WZfnAi-m2",
        "outputId": "b3feb235-dd37-49cd-da5b-1ce78851d190"
      },
      "source": [
        "train_and_show_scores(X_train_trigram, y_train, 'Trigram Counts')\n",
        "train_and_show_scores(X_train_trigram_tf_idf, y_train, 'Trigram Tf-Idf')"
      ],
      "execution_count": 38,
      "outputs": [
        {
          "output_type": "stream",
          "text": [
            "Trigram Counts\n",
            "Train score: 1.0 ; Validation score: 0.99\n",
            "\n",
            "Trigram Tf-Idf\n",
            "Train score: 1.0 ; Validation score: 0.99\n",
            "\n"
          ],
          "name": "stdout"
        }
      ]
    }
  ]
}